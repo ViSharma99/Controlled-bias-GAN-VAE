{
 "cells": [
  {
   "cell_type": "code",
   "execution_count": 1,
   "metadata": {
    "id": "jiH4N41f38Iv"
   },
   "outputs": [],
   "source": [
    "# prerequisites\n",
    "import torch\n",
    "import torch.nn as nn\n",
    "import torch.nn.functional as F\n",
    "import torch.optim as optim\n",
    "from torchvision import datasets, transforms\n",
    "from torch.autograd import Variable\n",
    "from torchvision.utils import save_image\n",
    "\n",
    "# Device configuration\n",
    "device = torch.device('cuda' if torch.cuda.is_available() else 'cpu')"
   ]
  },
  {
   "cell_type": "code",
   "execution_count": 2,
   "metadata": {
    "colab": {
     "base_uri": "https://localhost:8080/",
     "height": 423,
     "referenced_widgets": [
      "ec188e5c169a480bb2dfabdab054b19b",
      "2c37787c11dc4bcfab4b9adfa7ae4b5b",
      "684b6cf56f204910b82ba675536afe75",
      "d3ab3387df6d4db3b873f18b3f71e024",
      "c9cb8612e10a4dc18d1fd85c7bde9c6a",
      "823da6a86b6943aaa9b377620f3d5317",
      "f89c657fdd7547b4aa3701fdcbbb3541",
      "acac08ff455a46648ef3510172751791",
      "7f317a01cac1464cb3780443137b9623",
      "f380978c7a68454b9c1f08c6b218ec08",
      "69ea9a2f6a11471594191891a6e24679",
      "cca10a3214b1401c864f285a9c818487",
      "624a18ef1fdc4d2caecbdd031602d773",
      "4ef9f4c47c54478abd75b584395c6cc8",
      "5ab2eb7c259c4daa9f8d860e9406cf68",
      "fdd26f97e7da4d3085a2fa6b05a1d2b9",
      "d256f31c7e0c4221b62fea53f4f67449",
      "a8de3cd54b244cf7b04465286e849027",
      "bed35f6d364e406795c8aca2531df754",
      "1638c1f21a674393b834aea2849fbd6c",
      "f752daf71081418cb601494da8aa383a",
      "207d6ef7be9e434681d851b22a70b43a",
      "971fe97309534567948560e928ff11e2",
      "223a933dd8964eadb174311e54f9bf3a",
      "69f9cc5e73b640aa93d43906929928e1",
      "8dfb98f66be540189f8d47974f4e7c94",
      "5f9c4722691c41baa33851ea443a5d03",
      "7b3ef6b15f0d4b5fbbdf1cf4ac659758",
      "5f9ec37648c4438d971f69ec53e8e697",
      "28f20c3a7ff844a695661f08036982fb",
      "1b8be1a088094f5e80f9410dc807b6e1",
      "8d2c75bb3c614dccb2be6d2ea6df7ca3",
      "18d61e0d7a72406e83eb3150fdfdfc0e",
      "4d2c27967bed4f3eaa94b0b499e80b2b",
      "f0af2d8a3dbb44748bd907f2d1bea7c7",
      "aedd2f0300364cf3bf8d0a53dccfd0ae",
      "2576d636e1ee43ac9471a64beeb02c14",
      "cd534ed3ce8b40d7926cc74577f00bd1",
      "c2480b9eff1a4282ae3e116816b26df1",
      "48cad5980cd9425cae881d2e664066c4",
      "e7956167b1624bfeba6dc76fd316d4e1",
      "a3e1ba062a154cb8ad6fedd456d68a06",
      "3b20ea3a96fd46deb92636fa4caf5e12",
      "beb8d46f0c334c1ab6911ff1dde10794"
     ]
    },
    "id": "uGD7Q1ph38Iw",
    "outputId": "8c33f4a2-188b-412a-9c87-72ecc9f72fe7"
   },
   "outputs": [],
   "source": [
    "bs = 160\n",
    "\n",
    "# MNIST Dataset\n",
    "transform = transforms.Compose([\n",
    "    transforms.ToTensor(),\n",
    "    transforms.Normalize(mean=(0.5), std=(0.5))])\n",
    "\n",
    "train_dataset = datasets.MNIST(root='./mnist_data/', train=True, transform=transform, download=True)\n",
    "test_dataset = datasets.MNIST(root='./mnist_data/', train=False, transform=transform, download=False)\n",
    "train1 = datasets.MNIST(root='./mnist_data/', train=True, transform=transform, download=True)\n",
    "train0 = datasets.MNIST(root='./mnist_data/', train=True, transform=transform, download=True)\n",
    "train3 = datasets.MNIST(root='./mnist_data/', train=True, transform=transform, download=True)\n",
    "\n",
    "\n",
    "# idx = (train_dataset.targets==1) | (train_dataset.targets==0)\n",
    "# train_dataset.targets = train_dataset.targets[idx]\n",
    "# train_dataset.data = train_dataset.data[idx]\n",
    "idx = train_dataset.targets == 1\n",
    "train1.targets = train_dataset.targets[idx]\n",
    "train1.data = train_dataset.data[idx]\n",
    "\n",
    "idx = train_dataset.targets == 0\n",
    "train0.targets = train_dataset.targets[idx]\n",
    "train0.data = train_dataset.data[idx]\n",
    "\n",
    "idx = train_dataset.targets == 3\n",
    "train3.targets = train_dataset.targets[idx]\n",
    "train3.data = train_dataset.data[idx]\n",
    "#take two datasets of 0's and 1's seperately . \n",
    "#create new #ther to training.\n",
    "#\n",
    "\n",
    "\n",
    "dataloader0 = torch.utils.data.DataLoader(dataset=train0, batch_size=50, drop_last=True, shuffle=True)\n",
    "dataloader1 =  torch.utils.data.DataLoader(dataset=train1, batch_size=60, drop_last=True, shuffle=True)\n",
    "dataloader3 =   torch.utils.data.DataLoader(dataset=train3, batch_size=50, drop_last=True, shuffle=True)\n",
    "\n",
    "# # Example for class 0\n",
    "# dataiter0 = iter(dataloader0)\n",
    "# samples0 = next(dataiter0) \n",
    "# \n",
    "# def batch(dataiter, dataloader): \n",
    "\n",
    "# # Infinite dataloader \n",
    "  \n",
    "\n",
    "#   try: \n",
    "#     features, labels = next(dataiter) \n",
    "#   except StopIteration:\n",
    "#        # Thrown when dataset has been completely looped over \n",
    "#     dataiter = iter(dataloader) # Reinitialize data loader \n",
    "#     features, labels = next(dataiter) \n",
    "#   return features \n",
    "# # \n",
    "#i have to control [features, labels] numbers\n",
    "\n",
    "\n",
    "# Data Loader (Input Pipeline)\n",
    "train_loader = torch.utils.data.DataLoader(dataset=train_dataset, batch_size=bs, drop_last=True, shuffle=True)\n",
    "test_loader = torch.utils.data.DataLoader(dataset=test_dataset, batch_size=bs, shuffle=False)"
   ]
  },
  {
   "cell_type": "code",
   "execution_count": 3,
   "metadata": {},
   "outputs": [],
   "source": [
    "i = train_dataset.targets == 0\n",
    "train0.targets = train_dataset.targets[i]\n",
    "train0.data = train_dataset.data[i]"
   ]
  },
  {
   "cell_type": "code",
   "execution_count": 3,
   "metadata": {},
   "outputs": [
    {
     "data": {
      "text/plain": [
       "tensor(6742)"
      ]
     },
     "execution_count": 3,
     "metadata": {},
     "output_type": "execute_result"
    }
   ],
   "source": [
    "torch.sum(train1.targets==1)"
   ]
  },
  {
   "cell_type": "code",
   "execution_count": 4,
   "metadata": {},
   "outputs": [
    {
     "data": {
      "text/plain": [
       "6720"
      ]
     },
     "execution_count": 4,
     "metadata": {},
     "output_type": "execute_result"
    }
   ],
   "source": [
    "len(dataloader1)*60"
   ]
  },
  {
   "cell_type": "code",
   "execution_count": 55,
   "metadata": {},
   "outputs": [],
   "source": [
    "# dl = iter(d2)\n",
    "# data = next(dl)"
   ]
  },
  {
   "cell_type": "code",
   "execution_count": 21,
   "metadata": {},
   "outputs": [],
   "source": [
    "# dataiter0 = iter(dataloader0)\n",
    "# samples0 = next(dataiter0) \n",
    "\n",
    "# def batch(dataiter, dataloader): \n",
    "\n",
    "# # Infinite dataloader \n",
    "  \n",
    "\n",
    "#   try: \n",
    "#     features, labels = next(dataiter) \n",
    "#   except StopIteration:\n",
    "#        # Thrown when dataset has been completely looped over \n",
    "#     dataiter = iter(dataloader) # Reinitialize data loader \n",
    "#     features, labels = next(dataiter) \n",
    "#   return features "
   ]
  },
  {
   "cell_type": "code",
   "execution_count": 57,
   "metadata": {},
   "outputs": [
    {
     "data": {
      "text/plain": [
       "torch.utils.data.dataloader.DataLoader"
      ]
     },
     "execution_count": 57,
     "metadata": {},
     "output_type": "execute_result"
    }
   ],
   "source": [
    "# class loaderfinal(torch.utils.data.Dataset):\n",
    "#     def __init__(self, data,batch):\n",
    "#         self.list=data\n",
    "        \n",
    "#     def __len__(self):\n",
    "#         return self.batch\n",
    "#     def __getitem__(self, idx):\n",
    "#         if torch.is_tensor(idx):\n",
    "#             idx = idx.tolist()\n",
    "#         sample = new_images[idx]\n",
    "#         if self.transform:\n",
    "#             sample = self.transform(sample)\n",
    "#         if (sample.float().size()[0] == 3):\n",
    "#             return [sample.float(), self.labels[idx]]"
   ]
  },
  {
   "cell_type": "code",
   "execution_count": 7,
   "metadata": {},
   "outputs": [],
   "source": [
    "# def itr_merge(*itrs):\n",
    "#     list = []\n",
    "#     for itr in itrs:\n",
    "#         for v in itr:\n",
    "#             a = v"
   ]
  },
  {
   "cell_type": "code",
   "execution_count": 3,
   "metadata": {},
   "outputs": [],
   "source": [
    "# dates = []\n",
    "# for i, (x,_) in enumerate(train_loader):\n",
    "#         # dates.append(x)\n",
    "#         dates.append(x)"
   ]
  },
  {
   "cell_type": "code",
   "execution_count": 5,
   "metadata": {},
   "outputs": [],
   "source": [
    "def customdata(d1,d2,d3):\n",
    "    dataset = []\n",
    "    tensor_data = []\n",
    "    for i, ((x,_),(y,_),(q,_)) in enumerate(zip(d1,d2,d3)):\n",
    "#         print(x.shape)\n",
    "#         if i% 3 == 0 and i !=0:\n",
    "#             a = dataset[-1]\n",
    "#             b = dataset[-2]\n",
    "#             c = dataset[-3]\n",
    "            \n",
    "        r = torch.cat((x,y,q),0)\n",
    "        tensor_data.append(r)\n",
    "        dataset.append(x)\n",
    "        # print(len(dataset))\n",
    "    return tensor_data\n",
    "    "
   ]
  },
  {
   "cell_type": "code",
   "execution_count": 6,
   "metadata": {},
   "outputs": [],
   "source": [
    "ds = customdata(dataloader0,dataloader1,dataloader3)"
   ]
  },
  {
   "cell_type": "code",
   "execution_count": 7,
   "metadata": {},
   "outputs": [
    {
     "data": {
      "text/plain": [
       "torch.Size([160, 1, 28, 28])"
      ]
     },
     "execution_count": 7,
     "metadata": {},
     "output_type": "execute_result"
    }
   ],
   "source": [
    "ds[-1].shape"
   ]
  },
  {
   "cell_type": "code",
   "execution_count": 8,
   "metadata": {
    "id": "uItMN7iW38Iw"
   },
   "outputs": [],
   "source": [
    "class Generator(nn.Module):\n",
    "    def __init__(self, g_input_dim, g_output_dim):\n",
    "        super(Generator, self).__init__()       \n",
    "        self.fc1 = nn.Linear(g_input_dim, 256)\n",
    "        self.fc2 = nn.Linear(self.fc1.out_features, self.fc1.out_features*2)\n",
    "        self.fc3 = nn.Linear(self.fc2.out_features, self.fc2.out_features*2)\n",
    "        self.fc4 = nn.Linear(self.fc3.out_features, g_output_dim)\n",
    "    \n",
    "    # forward method\n",
    "    def forward(self, x): \n",
    "        x = F.leaky_relu(self.fc1(x), 0.2)\n",
    "        x = F.leaky_relu(self.fc2(x), 0.2)\n",
    "        x = F.leaky_relu(self.fc3(x), 0.2)\n",
    "        return torch.tanh(self.fc4(x))\n",
    "    \n",
    "class Discriminator(nn.Module):\n",
    "    def __init__(self, d_input_dim):\n",
    "        super(Discriminator, self).__init__()\n",
    "        self.fc1 = nn.Linear(d_input_dim, 1024)\n",
    "        self.fc2 = nn.Linear(self.fc1.out_features, self.fc1.out_features//2)\n",
    "        # self.fc3 = nn.Linear(self.fc2.out_features, self.fc2.out_features//2)\n",
    "        self.fc4 = nn.Linear(self.fc2.out_features, 1)\n",
    "    \n",
    "    # forward method\n",
    "    def forward(self, x):\n",
    "        x = F.leaky_relu(self.fc1(x), 0.2)\n",
    "        x = F.dropout(x, 0.3)\n",
    "        x = F.leaky_relu(self.fc2(x), 0.2)\n",
    "        # x = F.dropout(x, 0.3)\n",
    "        # x = F.leaky_relu(self.fc3(x), 0.2)\n",
    "        x = F.dropout(x, 0.3)\n",
    "        return torch.sigmoid(self.fc4(x))"
   ]
  },
  {
   "cell_type": "code",
   "execution_count": 9,
   "metadata": {
    "colab": {
     "base_uri": "https://localhost:8080/"
    },
    "id": "jt1_916b38Iw",
    "outputId": "c82aecc1-c9ba-4787-9b33-7f7de10a5039"
   },
   "outputs": [
    {
     "name": "stderr",
     "output_type": "stream",
     "text": [
      "/opt/conda/lib/python3.10/site-packages/torchvision/datasets/mnist.py:75: UserWarning: train_data has been renamed data\n",
      "  warnings.warn(\"train_data has been renamed data\")\n"
     ]
    }
   ],
   "source": [
    "# build network\n",
    "z_dim = 100\n",
    "mnist_dim = train_dataset.train_data.size(1) * train_dataset.train_data.size(2)\n",
    "\n",
    "G = Generator(g_input_dim = z_dim, g_output_dim = mnist_dim).to(device)\n",
    "D = Discriminator(mnist_dim).to(device)"
   ]
  },
  {
   "cell_type": "code",
   "execution_count": 10,
   "metadata": {
    "colab": {
     "base_uri": "https://localhost:8080/"
    },
    "id": "CjNc6N1w38Ix",
    "outputId": "3d79771f-3b67-49ed-fbb1-0fa72c24db27"
   },
   "outputs": [
    {
     "data": {
      "text/plain": [
       "Generator(\n",
       "  (fc1): Linear(in_features=100, out_features=256, bias=True)\n",
       "  (fc2): Linear(in_features=256, out_features=512, bias=True)\n",
       "  (fc3): Linear(in_features=512, out_features=1024, bias=True)\n",
       "  (fc4): Linear(in_features=1024, out_features=784, bias=True)\n",
       ")"
      ]
     },
     "execution_count": 10,
     "metadata": {},
     "output_type": "execute_result"
    }
   ],
   "source": [
    "G"
   ]
  },
  {
   "cell_type": "code",
   "execution_count": 11,
   "metadata": {
    "colab": {
     "base_uri": "https://localhost:8080/"
    },
    "id": "VLeMb57g38Ix",
    "outputId": "44051273-a891-47cd-daf9-5ddf9a7a89b9"
   },
   "outputs": [
    {
     "data": {
      "text/plain": [
       "Discriminator(\n",
       "  (fc1): Linear(in_features=784, out_features=1024, bias=True)\n",
       "  (fc2): Linear(in_features=1024, out_features=512, bias=True)\n",
       "  (fc4): Linear(in_features=512, out_features=1, bias=True)\n",
       ")"
      ]
     },
     "execution_count": 11,
     "metadata": {},
     "output_type": "execute_result"
    }
   ],
   "source": [
    "D"
   ]
  },
  {
   "cell_type": "code",
   "execution_count": 12,
   "metadata": {
    "id": "T_Ux_Bzn38Ix"
   },
   "outputs": [],
   "source": [
    "# loss\n",
    "criterion = nn.BCELoss() \n",
    "\n",
    "# optimizer\n",
    "lr = 0.0002 \n",
    "G_optimizer = optim.Adam(G.parameters(), lr = lr)\n",
    "D_optimizer = optim.Adam(D.parameters(), lr = lr)"
   ]
  },
  {
   "cell_type": "code",
   "execution_count": 13,
   "metadata": {
    "id": "_BpMonL138Iy"
   },
   "outputs": [],
   "source": [
    "def D_train(x):\n",
    "    #=======================Train the discriminator=======================#\n",
    "    D.zero_grad()\n",
    "\n",
    "    # train discriminator on real\n",
    "    x_real, y_real = x.view(-1, mnist_dim), torch.ones(bs, 1)\n",
    "    x_real, y_real = Variable(x_real.to(device)), Variable(y_real.to(device))\n",
    "\n",
    "    D_output = D(x_real)\n",
    "    D_real_loss = criterion(D_output, y_real)\n",
    "    D_real_score = D_output\n",
    "\n",
    "    # train discriminator on fake\n",
    "    z = Variable(torch.randn(bs, z_dim).to(device))\n",
    "    x_fake, y_fake = G(z), Variable(torch.zeros(bs, 1).to(device))\n",
    "\n",
    "    D_output = D(x_fake)\n",
    "    D_fake_loss = criterion(D_output, y_fake)\n",
    "    D_fake_score = D_output\n",
    "\n",
    "    # gradient backprop & optimize ONLY D's parameters\n",
    "    D_loss = D_real_loss + D_fake_loss\n",
    "    D_loss.backward()\n",
    "    D_optimizer.step()\n",
    "        \n",
    "    return  D_loss.data.item()"
   ]
  },
  {
   "cell_type": "code",
   "execution_count": 14,
   "metadata": {
    "id": "jjT6nJVP38Iy"
   },
   "outputs": [],
   "source": [
    "def G_train(x):\n",
    "    #=======================Train the generator=======================#\n",
    "    G.zero_grad()\n",
    "\n",
    "    z = Variable(torch.randn(bs, z_dim).to(device))\n",
    "    y = Variable(torch.ones(bs, 1).to(device))\n",
    "\n",
    "    G_output = G(z)\n",
    "    D_output = D(G_output)\n",
    "    G_loss = criterion(D_output, y)\n",
    "\n",
    "    # gradient backprop & optimize ONLY G's parameters\n",
    "    G_loss.backward()\n",
    "    G_optimizer.step()\n",
    "        \n",
    "    return G_loss.data.item()"
   ]
  },
  {
   "cell_type": "code",
   "execution_count": 15,
   "metadata": {
    "colab": {
     "background_save": true,
     "base_uri": "https://localhost:8080/"
    },
    "id": "UrICk-Zc38Iy",
    "outputId": "9dd54985-407b-4e1f-c63b-b2895b8415fe",
    "scrolled": true
   },
   "outputs": [
    {
     "name": "stdout",
     "output_type": "stream",
     "text": [
      "[1/200]: loss_d: 0.897, loss_g: 1.516\n",
      "[2/200]: loss_d: 0.685, loss_g: 3.536\n",
      "[3/200]: loss_d: 0.970, loss_g: 3.752\n",
      "[4/200]: loss_d: 0.098, loss_g: 5.386\n",
      "[5/200]: loss_d: 0.953, loss_g: 5.195\n",
      "[6/200]: loss_d: 0.227, loss_g: 5.663\n",
      "[7/200]: loss_d: 0.576, loss_g: 3.896\n",
      "[8/200]: loss_d: 0.650, loss_g: 3.440\n",
      "[9/200]: loss_d: 0.516, loss_g: 4.028\n",
      "[10/200]: loss_d: 0.715, loss_g: 3.381\n",
      "[11/200]: loss_d: 1.040, loss_g: 2.382\n",
      "[12/200]: loss_d: 0.824, loss_g: 2.615\n",
      "[13/200]: loss_d: 0.948, loss_g: 2.126\n",
      "[14/200]: loss_d: 0.931, loss_g: 2.869\n",
      "[15/200]: loss_d: 0.928, loss_g: 2.196\n",
      "[16/200]: loss_d: 0.811, loss_g: 1.910\n",
      "[17/200]: loss_d: 0.667, loss_g: 2.723\n",
      "[18/200]: loss_d: 0.664, loss_g: 2.221\n",
      "[19/200]: loss_d: 0.758, loss_g: 1.834\n",
      "[20/200]: loss_d: 0.543, loss_g: 2.728\n",
      "[21/200]: loss_d: 0.489, loss_g: 3.018\n",
      "[22/200]: loss_d: 0.442, loss_g: 3.253\n",
      "[23/200]: loss_d: 0.314, loss_g: 3.642\n",
      "[24/200]: loss_d: 0.319, loss_g: 4.046\n",
      "[25/200]: loss_d: 0.525, loss_g: 4.678\n",
      "[26/200]: loss_d: 0.660, loss_g: 3.431\n",
      "[27/200]: loss_d: 0.502, loss_g: 3.423\n",
      "[28/200]: loss_d: 0.543, loss_g: 3.206\n",
      "[29/200]: loss_d: 0.449, loss_g: 3.611\n",
      "[30/200]: loss_d: 0.536, loss_g: 2.918\n",
      "[31/200]: loss_d: 0.465, loss_g: 3.280\n",
      "[32/200]: loss_d: 0.479, loss_g: 3.708\n",
      "[33/200]: loss_d: 0.604, loss_g: 3.399\n",
      "[34/200]: loss_d: 0.456, loss_g: 3.363\n",
      "[35/200]: loss_d: 0.511, loss_g: 3.173\n",
      "[36/200]: loss_d: 0.503, loss_g: 3.258\n",
      "[37/200]: loss_d: 0.503, loss_g: 3.283\n",
      "[38/200]: loss_d: 0.553, loss_g: 2.904\n",
      "[39/200]: loss_d: 0.563, loss_g: 2.916\n",
      "[40/200]: loss_d: 0.585, loss_g: 3.196\n",
      "[41/200]: loss_d: 0.597, loss_g: 3.373\n",
      "[42/200]: loss_d: 0.627, loss_g: 2.877\n",
      "[43/200]: loss_d: 0.632, loss_g: 2.514\n",
      "[44/200]: loss_d: 0.659, loss_g: 2.405\n",
      "[45/200]: loss_d: 0.670, loss_g: 2.534\n",
      "[46/200]: loss_d: 0.626, loss_g: 2.778\n",
      "[47/200]: loss_d: 0.687, loss_g: 2.353\n",
      "[48/200]: loss_d: 0.591, loss_g: 2.500\n",
      "[49/200]: loss_d: 0.618, loss_g: 2.727\n",
      "[50/200]: loss_d: 0.608, loss_g: 2.687\n",
      "[51/200]: loss_d: 0.638, loss_g: 2.690\n",
      "[52/200]: loss_d: 0.566, loss_g: 2.682\n",
      "[53/200]: loss_d: 0.563, loss_g: 2.836\n",
      "[54/200]: loss_d: 0.600, loss_g: 2.865\n",
      "[55/200]: loss_d: 0.697, loss_g: 2.499\n",
      "[56/200]: loss_d: 0.636, loss_g: 2.406\n",
      "[57/200]: loss_d: 0.623, loss_g: 2.648\n",
      "[58/200]: loss_d: 0.659, loss_g: 2.320\n",
      "[59/200]: loss_d: 0.662, loss_g: 2.396\n",
      "[60/200]: loss_d: 0.692, loss_g: 2.304\n",
      "[61/200]: loss_d: 0.713, loss_g: 2.238\n",
      "[62/200]: loss_d: 0.656, loss_g: 2.323\n",
      "[63/200]: loss_d: 0.678, loss_g: 2.425\n",
      "[64/200]: loss_d: 0.605, loss_g: 2.509\n",
      "[65/200]: loss_d: 0.654, loss_g: 2.385\n",
      "[66/200]: loss_d: 0.677, loss_g: 2.318\n",
      "[67/200]: loss_d: 0.676, loss_g: 2.200\n",
      "[68/200]: loss_d: 0.687, loss_g: 2.311\n",
      "[69/200]: loss_d: 0.664, loss_g: 2.379\n",
      "[70/200]: loss_d: 0.683, loss_g: 2.267\n",
      "[71/200]: loss_d: 0.713, loss_g: 2.102\n",
      "[72/200]: loss_d: 0.714, loss_g: 2.225\n",
      "[73/200]: loss_d: 0.794, loss_g: 2.107\n",
      "[74/200]: loss_d: 0.838, loss_g: 2.062\n",
      "[75/200]: loss_d: 0.796, loss_g: 1.939\n",
      "[76/200]: loss_d: 0.758, loss_g: 2.013\n",
      "[77/200]: loss_d: 0.785, loss_g: 1.947\n",
      "[78/200]: loss_d: 0.739, loss_g: 1.898\n",
      "[79/200]: loss_d: 0.739, loss_g: 1.989\n",
      "[80/200]: loss_d: 0.736, loss_g: 2.013\n",
      "[81/200]: loss_d: 0.818, loss_g: 1.881\n",
      "[82/200]: loss_d: 0.820, loss_g: 1.847\n",
      "[83/200]: loss_d: 0.823, loss_g: 1.978\n",
      "[84/200]: loss_d: 0.800, loss_g: 1.929\n",
      "[85/200]: loss_d: 0.765, loss_g: 1.882\n",
      "[86/200]: loss_d: 0.778, loss_g: 1.845\n",
      "[87/200]: loss_d: 0.812, loss_g: 1.776\n",
      "[88/200]: loss_d: 0.841, loss_g: 1.764\n",
      "[89/200]: loss_d: 0.805, loss_g: 1.800\n",
      "[90/200]: loss_d: 0.858, loss_g: 1.720\n",
      "[91/200]: loss_d: 0.835, loss_g: 1.688\n",
      "[92/200]: loss_d: 0.850, loss_g: 1.698\n",
      "[93/200]: loss_d: 0.867, loss_g: 1.692\n",
      "[94/200]: loss_d: 0.828, loss_g: 1.817\n",
      "[95/200]: loss_d: 0.847, loss_g: 1.751\n",
      "[96/200]: loss_d: 0.850, loss_g: 1.756\n",
      "[97/200]: loss_d: 0.841, loss_g: 1.742\n",
      "[98/200]: loss_d: 0.853, loss_g: 1.737\n",
      "[99/200]: loss_d: 0.825, loss_g: 1.806\n",
      "[100/200]: loss_d: 0.834, loss_g: 1.805\n",
      "[101/200]: loss_d: 0.812, loss_g: 1.843\n",
      "[102/200]: loss_d: 0.819, loss_g: 1.800\n",
      "[103/200]: loss_d: 0.834, loss_g: 1.765\n",
      "[104/200]: loss_d: 0.839, loss_g: 1.744\n",
      "[105/200]: loss_d: 0.842, loss_g: 1.761\n",
      "[106/200]: loss_d: 0.830, loss_g: 1.746\n",
      "[107/200]: loss_d: 0.794, loss_g: 1.810\n",
      "[108/200]: loss_d: 0.832, loss_g: 1.806\n",
      "[109/200]: loss_d: 0.876, loss_g: 1.740\n",
      "[110/200]: loss_d: 0.845, loss_g: 1.753\n",
      "[111/200]: loss_d: 0.850, loss_g: 1.681\n",
      "[112/200]: loss_d: 0.857, loss_g: 1.706\n",
      "[113/200]: loss_d: 0.885, loss_g: 1.644\n",
      "[114/200]: loss_d: 0.895, loss_g: 1.619\n",
      "[115/200]: loss_d: 0.901, loss_g: 1.593\n",
      "[116/200]: loss_d: 0.912, loss_g: 1.528\n",
      "[117/200]: loss_d: 0.904, loss_g: 1.522\n",
      "[118/200]: loss_d: 0.907, loss_g: 1.500\n",
      "[119/200]: loss_d: 0.908, loss_g: 1.489\n",
      "[120/200]: loss_d: 0.893, loss_g: 1.558\n",
      "[121/200]: loss_d: 0.866, loss_g: 1.634\n",
      "[122/200]: loss_d: 0.927, loss_g: 1.578\n",
      "[123/200]: loss_d: 0.936, loss_g: 1.502\n",
      "[124/200]: loss_d: 0.867, loss_g: 1.612\n",
      "[125/200]: loss_d: 0.916, loss_g: 1.528\n",
      "[126/200]: loss_d: 0.940, loss_g: 1.456\n",
      "[127/200]: loss_d: 0.927, loss_g: 1.582\n",
      "[128/200]: loss_d: 0.929, loss_g: 1.541\n",
      "[129/200]: loss_d: 0.917, loss_g: 1.477\n",
      "[130/200]: loss_d: 0.916, loss_g: 1.528\n",
      "[131/200]: loss_d: 0.926, loss_g: 1.477\n",
      "[132/200]: loss_d: 0.940, loss_g: 1.466\n",
      "[133/200]: loss_d: 0.933, loss_g: 1.421\n",
      "[134/200]: loss_d: 0.935, loss_g: 1.405\n",
      "[135/200]: loss_d: 0.927, loss_g: 1.469\n",
      "[136/200]: loss_d: 0.947, loss_g: 1.490\n",
      "[137/200]: loss_d: 0.928, loss_g: 1.555\n",
      "[138/200]: loss_d: 0.932, loss_g: 1.523\n",
      "[139/200]: loss_d: 0.937, loss_g: 1.529\n",
      "[140/200]: loss_d: 0.948, loss_g: 1.491\n",
      "[141/200]: loss_d: 0.957, loss_g: 1.470\n",
      "[142/200]: loss_d: 0.985, loss_g: 1.461\n",
      "[143/200]: loss_d: 0.971, loss_g: 1.475\n",
      "[144/200]: loss_d: 0.950, loss_g: 1.489\n",
      "[145/200]: loss_d: 0.939, loss_g: 1.517\n",
      "[146/200]: loss_d: 0.969, loss_g: 1.432\n",
      "[147/200]: loss_d: 0.947, loss_g: 1.481\n",
      "[148/200]: loss_d: 0.965, loss_g: 1.479\n",
      "[149/200]: loss_d: 0.956, loss_g: 1.487\n",
      "[150/200]: loss_d: 0.956, loss_g: 1.511\n",
      "[151/200]: loss_d: 0.961, loss_g: 1.449\n",
      "[152/200]: loss_d: 0.990, loss_g: 1.424\n",
      "[153/200]: loss_d: 0.973, loss_g: 1.447\n",
      "[154/200]: loss_d: 0.975, loss_g: 1.413\n",
      "[155/200]: loss_d: 0.995, loss_g: 1.372\n",
      "[156/200]: loss_d: 0.975, loss_g: 1.398\n",
      "[157/200]: loss_d: 0.986, loss_g: 1.394\n",
      "[158/200]: loss_d: 1.034, loss_g: 1.371\n",
      "[159/200]: loss_d: 1.011, loss_g: 1.354\n",
      "[160/200]: loss_d: 1.008, loss_g: 1.372\n",
      "[161/200]: loss_d: 1.020, loss_g: 1.335\n",
      "[162/200]: loss_d: 1.005, loss_g: 1.374\n",
      "[163/200]: loss_d: 1.036, loss_g: 1.345\n",
      "[164/200]: loss_d: 1.027, loss_g: 1.287\n",
      "[165/200]: loss_d: 1.057, loss_g: 1.236\n",
      "[166/200]: loss_d: 1.031, loss_g: 1.306\n",
      "[167/200]: loss_d: 1.038, loss_g: 1.298\n",
      "[168/200]: loss_d: 1.030, loss_g: 1.316\n",
      "[169/200]: loss_d: 1.039, loss_g: 1.311\n",
      "[170/200]: loss_d: 1.034, loss_g: 1.330\n",
      "[171/200]: loss_d: 1.063, loss_g: 1.292\n",
      "[172/200]: loss_d: 1.062, loss_g: 1.286\n",
      "[173/200]: loss_d: 1.047, loss_g: 1.296\n",
      "[174/200]: loss_d: 1.072, loss_g: 1.274\n",
      "[175/200]: loss_d: 1.051, loss_g: 1.290\n",
      "[176/200]: loss_d: 1.054, loss_g: 1.261\n",
      "[177/200]: loss_d: 1.054, loss_g: 1.290\n",
      "[178/200]: loss_d: 1.060, loss_g: 1.316\n",
      "[179/200]: loss_d: 1.078, loss_g: 1.262\n",
      "[180/200]: loss_d: 1.083, loss_g: 1.274\n",
      "[181/200]: loss_d: 1.058, loss_g: 1.265\n",
      "[182/200]: loss_d: 1.081, loss_g: 1.197\n",
      "[183/200]: loss_d: 1.079, loss_g: 1.212\n",
      "[184/200]: loss_d: 1.071, loss_g: 1.241\n",
      "[185/200]: loss_d: 1.074, loss_g: 1.258\n",
      "[186/200]: loss_d: 1.097, loss_g: 1.210\n",
      "[187/200]: loss_d: 1.061, loss_g: 1.261\n",
      "[188/200]: loss_d: 1.065, loss_g: 1.267\n",
      "[189/200]: loss_d: 1.089, loss_g: 1.243\n",
      "[190/200]: loss_d: 1.096, loss_g: 1.244\n",
      "[191/200]: loss_d: 1.070, loss_g: 1.306\n",
      "[192/200]: loss_d: 1.106, loss_g: 1.260\n",
      "[193/200]: loss_d: 1.075, loss_g: 1.249\n",
      "[194/200]: loss_d: 1.093, loss_g: 1.203\n",
      "[195/200]: loss_d: 1.076, loss_g: 1.235\n",
      "[196/200]: loss_d: 1.083, loss_g: 1.224\n",
      "[197/200]: loss_d: 1.099, loss_g: 1.195\n",
      "[198/200]: loss_d: 1.104, loss_g: 1.174\n",
      "[199/200]: loss_d: 1.098, loss_g: 1.234\n",
      "[200/200]: loss_d: 1.137, loss_g: 1.185\n"
     ]
    }
   ],
   "source": [
    "n_epoch = 200\n",
    "for epoch in range(1, n_epoch+1):           \n",
    "    D_losses, G_losses = [], []\n",
    "    for batch_idx, x in enumerate(ds):\n",
    "        D_losses.append(D_train(x))\n",
    "        G_losses.append(G_train(x))\n",
    "        if batch_idx ==99:\n",
    "            # fake_images = G(z)\n",
    "            break\n",
    "        \n",
    "\n",
    "    print('[%d/%d]: loss_d: %.3f, loss_g: %.3f' % (\n",
    "            (epoch), n_epoch, torch.mean(torch.FloatTensor(D_losses)), torch.mean(torch.FloatTensor(G_losses))))"
   ]
  },
  {
   "cell_type": "code",
   "execution_count": 16,
   "metadata": {
    "id": "jXjHOHVt38Iy"
   },
   "outputs": [],
   "source": [
    "with torch.no_grad():\n",
    "    test_z = Variable(torch.randn(bs, z_dim).to(device))\n",
    "    generated = G(test_z).detach().cpu()\n",
    "\n",
    "    save_image(generated.view(generated.size(0), 1, 28, 28), './tsampleu303123_' + '.jpg')\n",
    "    # for i in len\n",
    "    # save_image(fake[i], os.path.join(sample_dir, fake_fname), nrow=1)\n",
    "    "
   ]
  },
  {
   "cell_type": "code",
   "execution_count": 37,
   "metadata": {},
   "outputs": [],
   "source": [
    "import os\n",
    "\n",
    "sample_dir = 'samples'\n",
    "if not os.path.exists(sample_dir):\n",
    "    os.makedirs(sample_dir)\n"
   ]
  },
  {
   "cell_type": "code",
   "execution_count": 38,
   "metadata": {},
   "outputs": [],
   "source": [
    "import matplotlib.pyplot as plt\n"
   ]
  },
  {
   "cell_type": "code",
   "execution_count": 18,
   "metadata": {},
   "outputs": [],
   "source": [
    "generated = generated.reshape(160,28,28,1)"
   ]
  },
  {
   "cell_type": "code",
   "execution_count": 35,
   "metadata": {},
   "outputs": [
    {
     "data": {
      "text/plain": [
       "torch.Size([160, 28, 28, 1])"
      ]
     },
     "execution_count": 35,
     "metadata": {},
     "output_type": "execute_result"
    }
   ],
   "source": [
    "generated.shape"
   ]
  },
  {
   "cell_type": "code",
   "execution_count": 103,
   "metadata": {},
   "outputs": [
    {
     "data": {
      "image/png": "[encoded data removed]",
      "text/plain": [
       "<Figure size 400x400 with 16 Axes>"
      ]
     },
     "metadata": {},
     "output_type": "display_data"
    }
   ],
   "source": [
    "predictions = G(test_z).detach().cpu()\n",
    "\n",
    "predictions = predictions.reshape(160,28,28,1)\n",
    "fig = plt.figure(figsize=(4, 4))\n",
    "for i in range(predictions.shape[0]):\n",
    "    if i < 16:\n",
    "        plt.subplot(4, 4, i+1)\n",
    "    plt.imshow(predictions[i, :, :, 0] * 127.5 + 127.5, cmap='gray')\n",
    "    plt.imsave('samples01/image{:04d}-{}.png'.format(1, i), predictions[i, :, :, 0] * 127.5 + 127.5, cmap='gray')\n",
    "    \n",
    "    plt.axis('off')\n",
    "\n",
    "# plt.savefig('image_at_epoch_{:04d}.png'.format(303))\n",
    "plt.show()"
   ]
  },
  {
   "cell_type": "code",
   "execution_count": null,
   "metadata": {},
   "outputs": [],
   "source": [
    "predictions.shape[0]\n",
    "\n",
    "gen_images= torch.chunk(predictions,160,dim=0)\n",
    "for i in range(len(gen_images)):\n",
    "    print(gen_images[i].shape)"
   ]
  },
  {
   "cell_type": "code",
   "execution_count": 126,
   "metadata": {},
   "outputs": [],
   "source": [
    "gen_images = list(gen_images)"
   ]
  },
  {
   "cell_type": "code",
   "execution_count": 128,
   "metadata": {},
   "outputs": [
    {
     "data": {
      "text/plain": [
       "torch.Tensor"
      ]
     },
     "execution_count": 128,
     "metadata": {},
     "output_type": "execute_result"
    }
   ],
   "source": [
    "type(gen_images[0])"
   ]
  },
  {
   "cell_type": "markdown",
   "metadata": {},
   "source": [
    "#Performing Classification of the Generated Images "
   ]
  },
  {
   "cell_type": "code",
   "execution_count": null,
   "metadata": {},
   "outputs": [],
   "source": []
  },
  {
   "cell_type": "code",
   "execution_count": 20,
   "metadata": {},
   "outputs": [],
   "source": [
    "import torch.nn as nn\n",
    "class CNN(nn.Module):\n",
    "    def __init__(self):\n",
    "        super(CNN, self).__init__()\n",
    "        self.conv1 = nn.Sequential(         \n",
    "            nn.Conv2d(\n",
    "                in_channels=1,              \n",
    "                out_channels=16,            \n",
    "                kernel_size=5,              \n",
    "                stride=1,                   \n",
    "                padding=2,                  \n",
    "            ),                              \n",
    "            nn.ReLU(),                      \n",
    "            nn.MaxPool2d(kernel_size=2),    \n",
    "        )\n",
    "        self.conv2 = nn.Sequential(         \n",
    "            nn.Conv2d(16, 32, 5, 1, 2),     \n",
    "            nn.ReLU(),                      \n",
    "            nn.MaxPool2d(2),                \n",
    "        )\n",
    "        # fully connected layer, output 10 classes\n",
    "        self.out = nn.Linear(32 * 7 * 7, 10)\n",
    "    def forward(self, x):\n",
    "        x = self.conv1(x)\n",
    "        x = self.conv2(x)\n",
    "        # flatten the output of conv2 to (batch_size, 32 * 7 * 7)\n",
    "        x = x.view(x.size(0), -1)       \n",
    "        output = self.out(x)\n",
    "        return output, x    # return x for visualization"
   ]
  },
  {
   "cell_type": "code",
   "execution_count": 21,
   "metadata": {},
   "outputs": [
    {
     "name": "stdout",
     "output_type": "stream",
     "text": [
      "CNN(\n",
      "  (conv1): Sequential(\n",
      "    (0): Conv2d(1, 16, kernel_size=(5, 5), stride=(1, 1), padding=(2, 2))\n",
      "    (1): ReLU()\n",
      "    (2): MaxPool2d(kernel_size=2, stride=2, padding=0, dilation=1, ceil_mode=False)\n",
      "  )\n",
      "  (conv2): Sequential(\n",
      "    (0): Conv2d(16, 32, kernel_size=(5, 5), stride=(1, 1), padding=(2, 2))\n",
      "    (1): ReLU()\n",
      "    (2): MaxPool2d(kernel_size=2, stride=2, padding=0, dilation=1, ceil_mode=False)\n",
      "  )\n",
      "  (out): Linear(in_features=1568, out_features=10, bias=True)\n",
      ")\n"
     ]
    }
   ],
   "source": [
    "cnn = CNN()\n",
    "print(cnn)"
   ]
  },
  {
   "cell_type": "code",
   "execution_count": 22,
   "metadata": {},
   "outputs": [
    {
     "data": {
      "text/plain": [
       "CrossEntropyLoss()"
      ]
     },
     "execution_count": 22,
     "metadata": {},
     "output_type": "execute_result"
    }
   ],
   "source": [
    "loss_func = nn.CrossEntropyLoss()   \n",
    "loss_func"
   ]
  },
  {
   "cell_type": "code",
   "execution_count": 23,
   "metadata": {},
   "outputs": [
    {
     "data": {
      "text/plain": [
       "Adam (\n",
       "Parameter Group 0\n",
       "    amsgrad: False\n",
       "    betas: (0.9, 0.999)\n",
       "    capturable: False\n",
       "    differentiable: False\n",
       "    eps: 1e-08\n",
       "    foreach: None\n",
       "    fused: False\n",
       "    lr: 0.01\n",
       "    maximize: False\n",
       "    weight_decay: 0\n",
       ")"
      ]
     },
     "execution_count": 23,
     "metadata": {},
     "output_type": "execute_result"
    }
   ],
   "source": [
    "from torch import optim\n",
    "optimizer = optim.Adam(cnn.parameters(), lr = 0.01)   \n",
    "optimizer"
   ]
  },
  {
   "cell_type": "code",
   "execution_count": 24,
   "metadata": {},
   "outputs": [],
   "source": [
    "def itr_merge(*itrs):\n",
    "    list = []\n",
    "    for itr in itrs:\n",
    "        for v in itr:\n",
    "            return v"
   ]
  },
  {
   "cell_type": "code",
   "execution_count": null,
   "metadata": {},
   "outputs": [],
   "source": []
  },
  {
   "cell_type": "code",
   "execution_count": 25,
   "metadata": {},
   "outputs": [],
   "source": [
    "# dataset = ConcatDataset(train1,train0, train3)\n",
    "trainset = torch.utils.data.ConcatDataset([train1,train0, train3])"
   ]
  },
  {
   "cell_type": "code",
   "execution_count": 26,
   "metadata": {},
   "outputs": [
    {
     "data": {
      "text/plain": [
       "18796"
      ]
     },
     "execution_count": 26,
     "metadata": {},
     "output_type": "execute_result"
    }
   ],
   "source": [
    "len(trainset)"
   ]
  },
  {
   "cell_type": "code",
   "execution_count": 27,
   "metadata": {},
   "outputs": [],
   "source": [
    "classifer_loader = torch.utils.data.DataLoader(dataset=trainset, batch_size=50, drop_last=True, shuffle=True)"
   ]
  },
  {
   "cell_type": "code",
   "execution_count": 29,
   "metadata": {},
   "outputs": [
    {
     "name": "stdout",
     "output_type": "stream",
     "text": [
      "Epoch [1/3], Step [100/375], Loss: 0.0000\n",
      "Epoch [1/3], Step [200/375], Loss: 0.0001\n",
      "Epoch [1/3], Step [300/375], Loss: 0.0002\n",
      "Epoch [2/3], Step [100/375], Loss: 0.0000\n",
      "Epoch [2/3], Step [200/375], Loss: 0.1287\n",
      "Epoch [2/3], Step [300/375], Loss: 0.0000\n",
      "Epoch [3/3], Step [100/375], Loss: 0.0000\n",
      "Epoch [3/3], Step [200/375], Loss: 0.0000\n",
      "Epoch [3/3], Step [300/375], Loss: 0.0000\n"
     ]
    }
   ],
   "source": [
    "from torch.autograd import Variable\n",
    "num_epochs = 3\n",
    "def train(num_epochs, cnn, loaders):\n",
    "    cnn.train()\n",
    "        \n",
    "    # Train the model\n",
    "    total_step = len(loaders)\n",
    "        \n",
    "    for epoch in range(num_epochs):\n",
    "        \n",
    "        for i, (images, labels) in enumerate(loaders):\n",
    "            # gives batch data, normalize x when iterate train_loader\n",
    "            b_x = Variable(images)   # batch x\n",
    "            b_y = Variable(labels)   # batch y\n",
    "            output = cnn(b_x)[0]               \n",
    "            loss = loss_func(output, b_y)\n",
    "            \n",
    "            # clear gradients for this training step   \n",
    "            optimizer.zero_grad()           \n",
    "            \n",
    "            # backpropagation, compute gradients \n",
    "            loss.backward()    \n",
    "            # apply gradients             \n",
    "            optimizer.step()                \n",
    "            \n",
    "            if (i+1) % 100 == 0:\n",
    "                \n",
    "                print ('Epoch [{}/{}], Step [{}/{}], Loss: {:.4f}' .format(epoch + 1, num_epochs, i + 1, total_step, loss.item()))\n",
    "                pass\n",
    "            pass\n",
    "        pass\n",
    "train(num_epochs, cnn, classifer_loader)"
   ]
  },
  {
   "cell_type": "code",
   "execution_count": 34,
   "metadata": {},
   "outputs": [],
   "source": [
    "torch.save(cnn.state_dict(), 'Classifier')\n",
    "torch.save(cnn, 'ClassifierMNIST/cnn.pth')"
   ]
  },
  {
   "cell_type": "code",
   "execution_count": null,
   "metadata": {},
   "outputs": [],
   "source": [
    "cnn.eval()\n",
    "with torch.no_grad()"
   ]
  },
  {
   "cell_type": "code",
   "execution_count": 36,
   "metadata": {},
   "outputs": [],
   "source": [
    "generated = generated.reshape(160,1,28,28)"
   ]
  },
  {
   "cell_type": "code",
   "execution_count": 37,
   "metadata": {},
   "outputs": [],
   "source": [
    "cnn.eval()\n",
    "with torch.no_grad():\n",
    "    test_output, last_layer = cnn(generated)\n",
    "    pred_y = torch.max(test_output, 1)[1].data.squeeze()"
   ]
  },
  {
   "cell_type": "code",
   "execution_count": null,
   "metadata": {},
   "outputs": [],
   "source": [
    "# cnn.eval()\n",
    "# with torch.no_grad():\n",
    "    \n",
    "#     correct = 0\n",
    "#     total = 0\n",
    "#     for images in gen_images:\n",
    "        \n",
    "#         test_output, last_layer = cnn(images)\n",
    "#         pred_y = torch.max(test_output, 1)[1].data.squeeze()\n",
    "#         # accuracy = (pred_y == labels).sum().item() / float(labels.size(0))\n",
    "#         pass\n",
    "# print(pred_y)    \n",
    "# # print('Test Accuracy of the model on the 10000 test images: %.2f' % accuracy)"
   ]
  },
  {
   "cell_type": "code",
   "execution_count": 38,
   "metadata": {},
   "outputs": [
    {
     "data": {
      "text/plain": [
       "160"
      ]
     },
     "execution_count": 38,
     "metadata": {},
     "output_type": "execute_result"
    }
   ],
   "source": [
    "len(pred_y)"
   ]
  },
  {
   "cell_type": "code",
   "execution_count": 39,
   "metadata": {},
   "outputs": [],
   "source": [
    "gen_c1 = 0\n",
    "gen_c0 =0\n",
    "gen_c3 = 0\n",
    "for i in pred_y:\n",
    "    if i == 0:\n",
    "        gen_c0 += 1\n",
    "    if i == 1:\n",
    "        gen_c1 += 1\n",
    "    if i ==3:\n",
    "        gen_c3 +=1\n",
    "        \n",
    "        \n",
    "        "
   ]
  },
  {
   "cell_type": "code",
   "execution_count": 40,
   "metadata": {},
   "outputs": [
    {
     "name": "stdout",
     "output_type": "stream",
     "text": [
      "31 77 52\n"
     ]
    }
   ],
   "source": [
    "print(gen_c0, gen_c1, gen_c3)"
   ]
  },
  {
   "cell_type": "code",
   "execution_count": null,
   "metadata": {},
   "outputs": [],
   "source": []
  }
 ],
 "metadata": {
  "colab": {
   "provenance": []
  },
  "kernelspec": {
   "display_name": "Python 3 (ipykernel)",
   "language": "python",
   "name": "python3"
  },
  "language_info": {
   "codemirror_mode": {
    "name": "ipython",
    "version": 3
   },
   "file_extension": ".py",
   "mimetype": "text/x-python",
   "name": "python",
   "nbconvert_exporter": "python",
   "pygments_lexer": "ipython3",
   "version": "3.10.6"
  },
  "widgets": {
   "application/vnd.jupyter.widget-state+json": {
    "1638c1f21a674393b834aea2849fbd6c": {
     "model_module": "@jupyter-widgets/controls",
     "model_module_version": "1.5.0",
     "model_name": "ProgressStyleModel",
     "state": {
      "_model_module": "@jupyter-widgets/controls",
      "_model_module_version": "1.5.0",
      "_model_name": "ProgressStyleModel",
      "_view_count": null,
      "_view_module": "@jupyter-widgets/base",
      "_view_module_version": "1.2.0",
      "_view_name": "StyleView",
      "bar_color": null,
      "description_width": ""
     }
    },
    "18d61e0d7a72406e83eb3150fdfdfc0e": {
     "model_module": "@jupyter-widgets/controls",
     "model_module_version": "1.5.0",
     "model_name": "DescriptionStyleModel",
     "state": {
      "_model_module": "@jupyter-widgets/controls",
      "_model_module_version": "1.5.0",
      "_model_name": "DescriptionStyleModel",
      "_view_count": null,
      "_view_module": "@jupyter-widgets/base",
      "_view_module_version": "1.2.0",
      "_view_name": "StyleView",
      "description_width": ""
     }
    },
    "1b8be1a088094f5e80f9410dc807b6e1": {
     "model_module": "@jupyter-widgets/controls",
     "model_module_version": "1.5.0",
     "model_name": "ProgressStyleModel",
     "state": {
      "_model_module": "@jupyter-widgets/controls",
      "_model_module_version": "1.5.0",
      "_model_name": "ProgressStyleModel",
      "_view_count": null,
      "_view_module": "@jupyter-widgets/base",
      "_view_module_version": "1.2.0",
      "_view_name": "StyleView",
      "bar_color": null,
      "description_width": ""
     }
    },
    "207d6ef7be9e434681d851b22a70b43a": {
     "model_module": "@jupyter-widgets/controls",
     "model_module_version": "1.5.0",
     "model_name": "DescriptionStyleModel",
     "state": {
      "_model_module": "@jupyter-widgets/controls",
      "_model_module_version": "1.5.0",
      "_model_name": "DescriptionStyleModel",
      "_view_count": null,
      "_view_module": "@jupyter-widgets/base",
      "_view_module_version": "1.2.0",
      "_view_name": "StyleView",
      "description_width": ""
     }
    },
    "223a933dd8964eadb174311e54f9bf3a": {
     "model_module": "@jupyter-widgets/controls",
     "model_module_version": "1.5.0",
     "model_name": "HTMLModel",
     "state": {
      "_dom_classes": [],
      "_model_module": "@jupyter-widgets/controls",
      "_model_module_version": "1.5.0",
      "_model_name": "HTMLModel",
      "_view_count": null,
      "_view_module": "@jupyter-widgets/controls",
      "_view_module_version": "1.5.0",
      "_view_name": "HTMLView",
      "description": "",
      "description_tooltip": null,
      "layout": "IPY_MODEL_7b3ef6b15f0d4b5fbbdf1cf4ac659758",
      "placeholder": "​",
      "style": "IPY_MODEL_5f9ec37648c4438d971f69ec53e8e697",
      "value": "100%"
     }
    },
    "2576d636e1ee43ac9471a64beeb02c14": {
     "model_module": "@jupyter-widgets/controls",
     "model_module_version": "1.5.0",
     "model_name": "HTMLModel",
     "state": {
      "_dom_classes": [],
      "_model_module": "@jupyter-widgets/controls",
      "_model_module_version": "1.5.0",
      "_model_name": "HTMLModel",
      "_view_count": null,
      "_view_module": "@jupyter-widgets/controls",
      "_view_module_version": "1.5.0",
      "_view_name": "HTMLView",
      "description": "",
      "description_tooltip": null,
      "layout": "IPY_MODEL_3b20ea3a96fd46deb92636fa4caf5e12",
      "placeholder": "​",
      "style": "IPY_MODEL_beb8d46f0c334c1ab6911ff1dde10794",
      "value": " 4542/4542 [00:00&lt;00:00, 86265.11it/s]"
     }
    },
    "28f20c3a7ff844a695661f08036982fb": {
     "model_module": "@jupyter-widgets/base",
     "model_module_version": "1.2.0",
     "model_name": "LayoutModel",
     "state": {
      "_model_module": "@jupyter-widgets/base",
      "_model_module_version": "1.2.0",
      "_model_name": "LayoutModel",
      "_view_count": null,
      "_view_module": "@jupyter-widgets/base",
      "_view_module_version": "1.2.0",
      "_view_name": "LayoutView",
      "align_content": null,
      "align_items": null,
      "align_self": null,
      "border": null,
      "bottom": null,
      "display": null,
      "flex": null,
      "flex_flow": null,
      "grid_area": null,
      "grid_auto_columns": null,
      "grid_auto_flow": null,
      "grid_auto_rows": null,
      "grid_column": null,
      "grid_gap": null,
      "grid_row": null,
      "grid_template_areas": null,
      "grid_template_columns": null,
      "grid_template_rows": null,
      "height": null,
      "justify_content": null,
      "justify_items": null,
      "left": null,
      "margin": null,
      "max_height": null,
      "max_width": null,
      "min_height": null,
      "min_width": null,
      "object_fit": null,
      "object_position": null,
      "order": null,
      "overflow": null,
      "overflow_x": null,
      "overflow_y": null,
      "padding": null,
      "right": null,
      "top": null,
      "visibility": null,
      "width": null
     }
    },
    "2c37787c11dc4bcfab4b9adfa7ae4b5b": {
     "model_module": "@jupyter-widgets/controls",
     "model_module_version": "1.5.0",
     "model_name": "HTMLModel",
     "state": {
      "_dom_classes": [],
      "_model_module": "@jupyter-widgets/controls",
      "_model_module_version": "1.5.0",
      "_model_name": "HTMLModel",
      "_view_count": null,
      "_view_module": "@jupyter-widgets/controls",
      "_view_module_version": "1.5.0",
      "_view_name": "HTMLView",
      "description": "",
      "description_tooltip": null,
      "layout": "IPY_MODEL_823da6a86b6943aaa9b377620f3d5317",
      "placeholder": "​",
      "style": "IPY_MODEL_f89c657fdd7547b4aa3701fdcbbb3541",
      "value": "100%"
     }
    },
    "3b20ea3a96fd46deb92636fa4caf5e12": {
     "model_module": "@jupyter-widgets/base",
     "model_module_version": "1.2.0",
     "model_name": "LayoutModel",
     "state": {
      "_model_module": "@jupyter-widgets/base",
      "_model_module_version": "1.2.0",
      "_model_name": "LayoutModel",
      "_view_count": null,
      "_view_module": "@jupyter-widgets/base",
      "_view_module_version": "1.2.0",
      "_view_name": "LayoutView",
      "align_content": null,
      "align_items": null,
      "align_self": null,
      "border": null,
      "bottom": null,
      "display": null,
      "flex": null,
      "flex_flow": null,
      "grid_area": null,
      "grid_auto_columns": null,
      "grid_auto_flow": null,
      "grid_auto_rows": null,
      "grid_column": null,
      "grid_gap": null,
      "grid_row": null,
      "grid_template_areas": null,
      "grid_template_columns": null,
      "grid_template_rows": null,
      "height": null,
      "justify_content": null,
      "justify_items": null,
      "left": null,
      "margin": null,
      "max_height": null,
      "max_width": null,
      "min_height": null,
      "min_width": null,
      "object_fit": null,
      "object_position": null,
      "order": null,
      "overflow": null,
      "overflow_x": null,
      "overflow_y": null,
      "padding": null,
      "right": null,
      "top": null,
      "visibility": null,
      "width": null
     }
    },
    "48cad5980cd9425cae881d2e664066c4": {
     "model_module": "@jupyter-widgets/controls",
     "model_module_version": "1.5.0",
     "model_name": "DescriptionStyleModel",
     "state": {
      "_model_module": "@jupyter-widgets/controls",
      "_model_module_version": "1.5.0",
      "_model_name": "DescriptionStyleModel",
      "_view_count": null,
      "_view_module": "@jupyter-widgets/base",
      "_view_module_version": "1.2.0",
      "_view_name": "StyleView",
      "description_width": ""
     }
    },
    "4d2c27967bed4f3eaa94b0b499e80b2b": {
     "model_module": "@jupyter-widgets/controls",
     "model_module_version": "1.5.0",
     "model_name": "HBoxModel",
     "state": {
      "_dom_classes": [],
      "_model_module": "@jupyter-widgets/controls",
      "_model_module_version": "1.5.0",
      "_model_name": "HBoxModel",
      "_view_count": null,
      "_view_module": "@jupyter-widgets/controls",
      "_view_module_version": "1.5.0",
      "_view_name": "HBoxView",
      "box_style": "",
      "children": [
       "IPY_MODEL_f0af2d8a3dbb44748bd907f2d1bea7c7",
       "IPY_MODEL_aedd2f0300364cf3bf8d0a53dccfd0ae",
       "IPY_MODEL_2576d636e1ee43ac9471a64beeb02c14"
      ],
      "layout": "IPY_MODEL_cd534ed3ce8b40d7926cc74577f00bd1"
     }
    },
    "4ef9f4c47c54478abd75b584395c6cc8": {
     "model_module": "@jupyter-widgets/controls",
     "model_module_version": "1.5.0",
     "model_name": "FloatProgressModel",
     "state": {
      "_dom_classes": [],
      "_model_module": "@jupyter-widgets/controls",
      "_model_module_version": "1.5.0",
      "_model_name": "FloatProgressModel",
      "_view_count": null,
      "_view_module": "@jupyter-widgets/controls",
      "_view_module_version": "1.5.0",
      "_view_name": "ProgressView",
      "bar_style": "success",
      "description": "",
      "description_tooltip": null,
      "layout": "IPY_MODEL_bed35f6d364e406795c8aca2531df754",
      "max": 28881,
      "min": 0,
      "orientation": "horizontal",
      "style": "IPY_MODEL_1638c1f21a674393b834aea2849fbd6c",
      "value": 28881
     }
    },
    "5ab2eb7c259c4daa9f8d860e9406cf68": {
     "model_module": "@jupyter-widgets/controls",
     "model_module_version": "1.5.0",
     "model_name": "HTMLModel",
     "state": {
      "_dom_classes": [],
      "_model_module": "@jupyter-widgets/controls",
      "_model_module_version": "1.5.0",
      "_model_name": "HTMLModel",
      "_view_count": null,
      "_view_module": "@jupyter-widgets/controls",
      "_view_module_version": "1.5.0",
      "_view_name": "HTMLView",
      "description": "",
      "description_tooltip": null,
      "layout": "IPY_MODEL_f752daf71081418cb601494da8aa383a",
      "placeholder": "​",
      "style": "IPY_MODEL_207d6ef7be9e434681d851b22a70b43a",
      "value": " 28881/28881 [00:00&lt;00:00, 578843.29it/s]"
     }
    },
    "5f9c4722691c41baa33851ea443a5d03": {
     "model_module": "@jupyter-widgets/base",
     "model_module_version": "1.2.0",
     "model_name": "LayoutModel",
     "state": {
      "_model_module": "@jupyter-widgets/base",
      "_model_module_version": "1.2.0",
      "_model_name": "LayoutModel",
      "_view_count": null,
      "_view_module": "@jupyter-widgets/base",
      "_view_module_version": "1.2.0",
      "_view_name": "LayoutView",
      "align_content": null,
      "align_items": null,
      "align_self": null,
      "border": null,
      "bottom": null,
      "display": null,
      "flex": null,
      "flex_flow": null,
      "grid_area": null,
      "grid_auto_columns": null,
      "grid_auto_flow": null,
      "grid_auto_rows": null,
      "grid_column": null,
      "grid_gap": null,
      "grid_row": null,
      "grid_template_areas": null,
      "grid_template_columns": null,
      "grid_template_rows": null,
      "height": null,
      "justify_content": null,
      "justify_items": null,
      "left": null,
      "margin": null,
      "max_height": null,
      "max_width": null,
      "min_height": null,
      "min_width": null,
      "object_fit": null,
      "object_position": null,
      "order": null,
      "overflow": null,
      "overflow_x": null,
      "overflow_y": null,
      "padding": null,
      "right": null,
      "top": null,
      "visibility": null,
      "width": null
     }
    },
    "5f9ec37648c4438d971f69ec53e8e697": {
     "model_module": "@jupyter-widgets/controls",
     "model_module_version": "1.5.0",
     "model_name": "DescriptionStyleModel",
     "state": {
      "_model_module": "@jupyter-widgets/controls",
      "_model_module_version": "1.5.0",
      "_model_name": "DescriptionStyleModel",
      "_view_count": null,
      "_view_module": "@jupyter-widgets/base",
      "_view_module_version": "1.2.0",
      "_view_name": "StyleView",
      "description_width": ""
     }
    },
    "624a18ef1fdc4d2caecbdd031602d773": {
     "model_module": "@jupyter-widgets/controls",
     "model_module_version": "1.5.0",
     "model_name": "HTMLModel",
     "state": {
      "_dom_classes": [],
      "_model_module": "@jupyter-widgets/controls",
      "_model_module_version": "1.5.0",
      "_model_name": "HTMLModel",
      "_view_count": null,
      "_view_module": "@jupyter-widgets/controls",
      "_view_module_version": "1.5.0",
      "_view_name": "HTMLView",
      "description": "",
      "description_tooltip": null,
      "layout": "IPY_MODEL_d256f31c7e0c4221b62fea53f4f67449",
      "placeholder": "​",
      "style": "IPY_MODEL_a8de3cd54b244cf7b04465286e849027",
      "value": "100%"
     }
    },
    "684b6cf56f204910b82ba675536afe75": {
     "model_module": "@jupyter-widgets/controls",
     "model_module_version": "1.5.0",
     "model_name": "FloatProgressModel",
     "state": {
      "_dom_classes": [],
      "_model_module": "@jupyter-widgets/controls",
      "_model_module_version": "1.5.0",
      "_model_name": "FloatProgressModel",
      "_view_count": null,
      "_view_module": "@jupyter-widgets/controls",
      "_view_module_version": "1.5.0",
      "_view_name": "ProgressView",
      "bar_style": "success",
      "description": "",
      "description_tooltip": null,
      "layout": "IPY_MODEL_acac08ff455a46648ef3510172751791",
      "max": 9912422,
      "min": 0,
      "orientation": "horizontal",
      "style": "IPY_MODEL_7f317a01cac1464cb3780443137b9623",
      "value": 9912422
     }
    },
    "69ea9a2f6a11471594191891a6e24679": {
     "model_module": "@jupyter-widgets/controls",
     "model_module_version": "1.5.0",
     "model_name": "DescriptionStyleModel",
     "state": {
      "_model_module": "@jupyter-widgets/controls",
      "_model_module_version": "1.5.0",
      "_model_name": "DescriptionStyleModel",
      "_view_count": null,
      "_view_module": "@jupyter-widgets/base",
      "_view_module_version": "1.2.0",
      "_view_name": "StyleView",
      "description_width": ""
     }
    },
    "69f9cc5e73b640aa93d43906929928e1": {
     "model_module": "@jupyter-widgets/controls",
     "model_module_version": "1.5.0",
     "model_name": "FloatProgressModel",
     "state": {
      "_dom_classes": [],
      "_model_module": "@jupyter-widgets/controls",
      "_model_module_version": "1.5.0",
      "_model_name": "FloatProgressModel",
      "_view_count": null,
      "_view_module": "@jupyter-widgets/controls",
      "_view_module_version": "1.5.0",
      "_view_name": "ProgressView",
      "bar_style": "success",
      "description": "",
      "description_tooltip": null,
      "layout": "IPY_MODEL_28f20c3a7ff844a695661f08036982fb",
      "max": 1648877,
      "min": 0,
      "orientation": "horizontal",
      "style": "IPY_MODEL_1b8be1a088094f5e80f9410dc807b6e1",
      "value": 1648877
     }
    },
    "7b3ef6b15f0d4b5fbbdf1cf4ac659758": {
     "model_module": "@jupyter-widgets/base",
     "model_module_version": "1.2.0",
     "model_name": "LayoutModel",
     "state": {
      "_model_module": "@jupyter-widgets/base",
      "_model_module_version": "1.2.0",
      "_model_name": "LayoutModel",
      "_view_count": null,
      "_view_module": "@jupyter-widgets/base",
      "_view_module_version": "1.2.0",
      "_view_name": "LayoutView",
      "align_content": null,
      "align_items": null,
      "align_self": null,
      "border": null,
      "bottom": null,
      "display": null,
      "flex": null,
      "flex_flow": null,
      "grid_area": null,
      "grid_auto_columns": null,
      "grid_auto_flow": null,
      "grid_auto_rows": null,
      "grid_column": null,
      "grid_gap": null,
      "grid_row": null,
      "grid_template_areas": null,
      "grid_template_columns": null,
      "grid_template_rows": null,
      "height": null,
      "justify_content": null,
      "justify_items": null,
      "left": null,
      "margin": null,
      "max_height": null,
      "max_width": null,
      "min_height": null,
      "min_width": null,
      "object_fit": null,
      "object_position": null,
      "order": null,
      "overflow": null,
      "overflow_x": null,
      "overflow_y": null,
      "padding": null,
      "right": null,
      "top": null,
      "visibility": null,
      "width": null
     }
    },
    "7f317a01cac1464cb3780443137b9623": {
     "model_module": "@jupyter-widgets/controls",
     "model_module_version": "1.5.0",
     "model_name": "ProgressStyleModel",
     "state": {
      "_model_module": "@jupyter-widgets/controls",
      "_model_module_version": "1.5.0",
      "_model_name": "ProgressStyleModel",
      "_view_count": null,
      "_view_module": "@jupyter-widgets/base",
      "_view_module_version": "1.2.0",
      "_view_name": "StyleView",
      "bar_color": null,
      "description_width": ""
     }
    },
    "823da6a86b6943aaa9b377620f3d5317": {
     "model_module": "@jupyter-widgets/base",
     "model_module_version": "1.2.0",
     "model_name": "LayoutModel",
     "state": {
      "_model_module": "@jupyter-widgets/base",
      "_model_module_version": "1.2.0",
      "_model_name": "LayoutModel",
      "_view_count": null,
      "_view_module": "@jupyter-widgets/base",
      "_view_module_version": "1.2.0",
      "_view_name": "LayoutView",
      "align_content": null,
      "align_items": null,
      "align_self": null,
      "border": null,
      "bottom": null,
      "display": null,
      "flex": null,
      "flex_flow": null,
      "grid_area": null,
      "grid_auto_columns": null,
      "grid_auto_flow": null,
      "grid_auto_rows": null,
      "grid_column": null,
      "grid_gap": null,
      "grid_row": null,
      "grid_template_areas": null,
      "grid_template_columns": null,
      "grid_template_rows": null,
      "height": null,
      "justify_content": null,
      "justify_items": null,
      "left": null,
      "margin": null,
      "max_height": null,
      "max_width": null,
      "min_height": null,
      "min_width": null,
      "object_fit": null,
      "object_position": null,
      "order": null,
      "overflow": null,
      "overflow_x": null,
      "overflow_y": null,
      "padding": null,
      "right": null,
      "top": null,
      "visibility": null,
      "width": null
     }
    },
    "8d2c75bb3c614dccb2be6d2ea6df7ca3": {
     "model_module": "@jupyter-widgets/base",
     "model_module_version": "1.2.0",
     "model_name": "LayoutModel",
     "state": {
      "_model_module": "@jupyter-widgets/base",
      "_model_module_version": "1.2.0",
      "_model_name": "LayoutModel",
      "_view_count": null,
      "_view_module": "@jupyter-widgets/base",
      "_view_module_version": "1.2.0",
      "_view_name": "LayoutView",
      "align_content": null,
      "align_items": null,
      "align_self": null,
      "border": null,
      "bottom": null,
      "display": null,
      "flex": null,
      "flex_flow": null,
      "grid_area": null,
      "grid_auto_columns": null,
      "grid_auto_flow": null,
      "grid_auto_rows": null,
      "grid_column": null,
      "grid_gap": null,
      "grid_row": null,
      "grid_template_areas": null,
      "grid_template_columns": null,
      "grid_template_rows": null,
      "height": null,
      "justify_content": null,
      "justify_items": null,
      "left": null,
      "margin": null,
      "max_height": null,
      "max_width": null,
      "min_height": null,
      "min_width": null,
      "object_fit": null,
      "object_position": null,
      "order": null,
      "overflow": null,
      "overflow_x": null,
      "overflow_y": null,
      "padding": null,
      "right": null,
      "top": null,
      "visibility": null,
      "width": null
     }
    },
    "8dfb98f66be540189f8d47974f4e7c94": {
     "model_module": "@jupyter-widgets/controls",
     "model_module_version": "1.5.0",
     "model_name": "HTMLModel",
     "state": {
      "_dom_classes": [],
      "_model_module": "@jupyter-widgets/controls",
      "_model_module_version": "1.5.0",
      "_model_name": "HTMLModel",
      "_view_count": null,
      "_view_module": "@jupyter-widgets/controls",
      "_view_module_version": "1.5.0",
      "_view_name": "HTMLView",
      "description": "",
      "description_tooltip": null,
      "layout": "IPY_MODEL_8d2c75bb3c614dccb2be6d2ea6df7ca3",
      "placeholder": "​",
      "style": "IPY_MODEL_18d61e0d7a72406e83eb3150fdfdfc0e",
      "value": " 1648877/1648877 [00:00&lt;00:00, 3195719.63it/s]"
     }
    },
    "971fe97309534567948560e928ff11e2": {
     "model_module": "@jupyter-widgets/controls",
     "model_module_version": "1.5.0",
     "model_name": "HBoxModel",
     "state": {
      "_dom_classes": [],
      "_model_module": "@jupyter-widgets/controls",
      "_model_module_version": "1.5.0",
      "_model_name": "HBoxModel",
      "_view_count": null,
      "_view_module": "@jupyter-widgets/controls",
      "_view_module_version": "1.5.0",
      "_view_name": "HBoxView",
      "box_style": "",
      "children": [
       "IPY_MODEL_223a933dd8964eadb174311e54f9bf3a",
       "IPY_MODEL_69f9cc5e73b640aa93d43906929928e1",
       "IPY_MODEL_8dfb98f66be540189f8d47974f4e7c94"
      ],
      "layout": "IPY_MODEL_5f9c4722691c41baa33851ea443a5d03"
     }
    },
    "a3e1ba062a154cb8ad6fedd456d68a06": {
     "model_module": "@jupyter-widgets/controls",
     "model_module_version": "1.5.0",
     "model_name": "ProgressStyleModel",
     "state": {
      "_model_module": "@jupyter-widgets/controls",
      "_model_module_version": "1.5.0",
      "_model_name": "ProgressStyleModel",
      "_view_count": null,
      "_view_module": "@jupyter-widgets/base",
      "_view_module_version": "1.2.0",
      "_view_name": "StyleView",
      "bar_color": null,
      "description_width": ""
     }
    },
    "a8de3cd54b244cf7b04465286e849027": {
     "model_module": "@jupyter-widgets/controls",
     "model_module_version": "1.5.0",
     "model_name": "DescriptionStyleModel",
     "state": {
      "_model_module": "@jupyter-widgets/controls",
      "_model_module_version": "1.5.0",
      "_model_name": "DescriptionStyleModel",
      "_view_count": null,
      "_view_module": "@jupyter-widgets/base",
      "_view_module_version": "1.2.0",
      "_view_name": "StyleView",
      "description_width": ""
     }
    },
    "acac08ff455a46648ef3510172751791": {
     "model_module": "@jupyter-widgets/base",
     "model_module_version": "1.2.0",
     "model_name": "LayoutModel",
     "state": {
      "_model_module": "@jupyter-widgets/base",
      "_model_module_version": "1.2.0",
      "_model_name": "LayoutModel",
      "_view_count": null,
      "_view_module": "@jupyter-widgets/base",
      "_view_module_version": "1.2.0",
      "_view_name": "LayoutView",
      "align_content": null,
      "align_items": null,
      "align_self": null,
      "border": null,
      "bottom": null,
      "display": null,
      "flex": null,
      "flex_flow": null,
      "grid_area": null,
      "grid_auto_columns": null,
      "grid_auto_flow": null,
      "grid_auto_rows": null,
      "grid_column": null,
      "grid_gap": null,
      "grid_row": null,
      "grid_template_areas": null,
      "grid_template_columns": null,
      "grid_template_rows": null,
      "height": null,
      "justify_content": null,
      "justify_items": null,
      "left": null,
      "margin": null,
      "max_height": null,
      "max_width": null,
      "min_height": null,
      "min_width": null,
      "object_fit": null,
      "object_position": null,
      "order": null,
      "overflow": null,
      "overflow_x": null,
      "overflow_y": null,
      "padding": null,
      "right": null,
      "top": null,
      "visibility": null,
      "width": null
     }
    },
    "aedd2f0300364cf3bf8d0a53dccfd0ae": {
     "model_module": "@jupyter-widgets/controls",
     "model_module_version": "1.5.0",
     "model_name": "FloatProgressModel",
     "state": {
      "_dom_classes": [],
      "_model_module": "@jupyter-widgets/controls",
      "_model_module_version": "1.5.0",
      "_model_name": "FloatProgressModel",
      "_view_count": null,
      "_view_module": "@jupyter-widgets/controls",
      "_view_module_version": "1.5.0",
      "_view_name": "ProgressView",
      "bar_style": "success",
      "description": "",
      "description_tooltip": null,
      "layout": "IPY_MODEL_e7956167b1624bfeba6dc76fd316d4e1",
      "max": 4542,
      "min": 0,
      "orientation": "horizontal",
      "style": "IPY_MODEL_a3e1ba062a154cb8ad6fedd456d68a06",
      "value": 4542
     }
    },
    "beb8d46f0c334c1ab6911ff1dde10794": {
     "model_module": "@jupyter-widgets/controls",
     "model_module_version": "1.5.0",
     "model_name": "DescriptionStyleModel",
     "state": {
      "_model_module": "@jupyter-widgets/controls",
      "_model_module_version": "1.5.0",
      "_model_name": "DescriptionStyleModel",
      "_view_count": null,
      "_view_module": "@jupyter-widgets/base",
      "_view_module_version": "1.2.0",
      "_view_name": "StyleView",
      "description_width": ""
     }
    },
    "bed35f6d364e406795c8aca2531df754": {
     "model_module": "@jupyter-widgets/base",
     "model_module_version": "1.2.0",
     "model_name": "LayoutModel",
     "state": {
      "_model_module": "@jupyter-widgets/base",
      "_model_module_version": "1.2.0",
      "_model_name": "LayoutModel",
      "_view_count": null,
      "_view_module": "@jupyter-widgets/base",
      "_view_module_version": "1.2.0",
      "_view_name": "LayoutView",
      "align_content": null,
      "align_items": null,
      "align_self": null,
      "border": null,
      "bottom": null,
      "display": null,
      "flex": null,
      "flex_flow": null,
      "grid_area": null,
      "grid_auto_columns": null,
      "grid_auto_flow": null,
      "grid_auto_rows": null,
      "grid_column": null,
      "grid_gap": null,
      "grid_row": null,
      "grid_template_areas": null,
      "grid_template_columns": null,
      "grid_template_rows": null,
      "height": null,
      "justify_content": null,
      "justify_items": null,
      "left": null,
      "margin": null,
      "max_height": null,
      "max_width": null,
      "min_height": null,
      "min_width": null,
      "object_fit": null,
      "object_position": null,
      "order": null,
      "overflow": null,
      "overflow_x": null,
      "overflow_y": null,
      "padding": null,
      "right": null,
      "top": null,
      "visibility": null,
      "width": null
     }
    },
    "c2480b9eff1a4282ae3e116816b26df1": {
     "model_module": "@jupyter-widgets/base",
     "model_module_version": "1.2.0",
     "model_name": "LayoutModel",
     "state": {
      "_model_module": "@jupyter-widgets/base",
      "_model_module_version": "1.2.0",
      "_model_name": "LayoutModel",
      "_view_count": null,
      "_view_module": "@jupyter-widgets/base",
      "_view_module_version": "1.2.0",
      "_view_name": "LayoutView",
      "align_content": null,
      "align_items": null,
      "align_self": null,
      "border": null,
      "bottom": null,
      "display": null,
      "flex": null,
      "flex_flow": null,
      "grid_area": null,
      "grid_auto_columns": null,
      "grid_auto_flow": null,
      "grid_auto_rows": null,
      "grid_column": null,
      "grid_gap": null,
      "grid_row": null,
      "grid_template_areas": null,
      "grid_template_columns": null,
      "grid_template_rows": null,
      "height": null,
      "justify_content": null,
      "justify_items": null,
      "left": null,
      "margin": null,
      "max_height": null,
      "max_width": null,
      "min_height": null,
      "min_width": null,
      "object_fit": null,
      "object_position": null,
      "order": null,
      "overflow": null,
      "overflow_x": null,
      "overflow_y": null,
      "padding": null,
      "right": null,
      "top": null,
      "visibility": null,
      "width": null
     }
    },
    "c9cb8612e10a4dc18d1fd85c7bde9c6a": {
     "model_module": "@jupyter-widgets/base",
     "model_module_version": "1.2.0",
     "model_name": "LayoutModel",
     "state": {
      "_model_module": "@jupyter-widgets/base",
      "_model_module_version": "1.2.0",
      "_model_name": "LayoutModel",
      "_view_count": null,
      "_view_module": "@jupyter-widgets/base",
      "_view_module_version": "1.2.0",
      "_view_name": "LayoutView",
      "align_content": null,
      "align_items": null,
      "align_self": null,
      "border": null,
      "bottom": null,
      "display": null,
      "flex": null,
      "flex_flow": null,
      "grid_area": null,
      "grid_auto_columns": null,
      "grid_auto_flow": null,
      "grid_auto_rows": null,
      "grid_column": null,
      "grid_gap": null,
      "grid_row": null,
      "grid_template_areas": null,
      "grid_template_columns": null,
      "grid_template_rows": null,
      "height": null,
      "justify_content": null,
      "justify_items": null,
      "left": null,
      "margin": null,
      "max_height": null,
      "max_width": null,
      "min_height": null,
      "min_width": null,
      "object_fit": null,
      "object_position": null,
      "order": null,
      "overflow": null,
      "overflow_x": null,
      "overflow_y": null,
      "padding": null,
      "right": null,
      "top": null,
      "visibility": null,
      "width": null
     }
    },
    "cca10a3214b1401c864f285a9c818487": {
     "model_module": "@jupyter-widgets/controls",
     "model_module_version": "1.5.0",
     "model_name": "HBoxModel",
     "state": {
      "_dom_classes": [],
      "_model_module": "@jupyter-widgets/controls",
      "_model_module_version": "1.5.0",
      "_model_name": "HBoxModel",
      "_view_count": null,
      "_view_module": "@jupyter-widgets/controls",
      "_view_module_version": "1.5.0",
      "_view_name": "HBoxView",
      "box_style": "",
      "children": [
       "IPY_MODEL_624a18ef1fdc4d2caecbdd031602d773",
       "IPY_MODEL_4ef9f4c47c54478abd75b584395c6cc8",
       "IPY_MODEL_5ab2eb7c259c4daa9f8d860e9406cf68"
      ],
      "layout": "IPY_MODEL_fdd26f97e7da4d3085a2fa6b05a1d2b9"
     }
    },
    "cd534ed3ce8b40d7926cc74577f00bd1": {
     "model_module": "@jupyter-widgets/base",
     "model_module_version": "1.2.0",
     "model_name": "LayoutModel",
     "state": {
      "_model_module": "@jupyter-widgets/base",
      "_model_module_version": "1.2.0",
      "_model_name": "LayoutModel",
      "_view_count": null,
      "_view_module": "@jupyter-widgets/base",
      "_view_module_version": "1.2.0",
      "_view_name": "LayoutView",
      "align_content": null,
      "align_items": null,
      "align_self": null,
      "border": null,
      "bottom": null,
      "display": null,
      "flex": null,
      "flex_flow": null,
      "grid_area": null,
      "grid_auto_columns": null,
      "grid_auto_flow": null,
      "grid_auto_rows": null,
      "grid_column": null,
      "grid_gap": null,
      "grid_row": null,
      "grid_template_areas": null,
      "grid_template_columns": null,
      "grid_template_rows": null,
      "height": null,
      "justify_content": null,
      "justify_items": null,
      "left": null,
      "margin": null,
      "max_height": null,
      "max_width": null,
      "min_height": null,
      "min_width": null,
      "object_fit": null,
      "object_position": null,
      "order": null,
      "overflow": null,
      "overflow_x": null,
      "overflow_y": null,
      "padding": null,
      "right": null,
      "top": null,
      "visibility": null,
      "width": null
     }
    },
    "d256f31c7e0c4221b62fea53f4f67449": {
     "model_module": "@jupyter-widgets/base",
     "model_module_version": "1.2.0",
     "model_name": "LayoutModel",
     "state": {
      "_model_module": "@jupyter-widgets/base",
      "_model_module_version": "1.2.0",
      "_model_name": "LayoutModel",
      "_view_count": null,
      "_view_module": "@jupyter-widgets/base",
      "_view_module_version": "1.2.0",
      "_view_name": "LayoutView",
      "align_content": null,
      "align_items": null,
      "align_self": null,
      "border": null,
      "bottom": null,
      "display": null,
      "flex": null,
      "flex_flow": null,
      "grid_area": null,
      "grid_auto_columns": null,
      "grid_auto_flow": null,
      "grid_auto_rows": null,
      "grid_column": null,
      "grid_gap": null,
      "grid_row": null,
      "grid_template_areas": null,
      "grid_template_columns": null,
      "grid_template_rows": null,
      "height": null,
      "justify_content": null,
      "justify_items": null,
      "left": null,
      "margin": null,
      "max_height": null,
      "max_width": null,
      "min_height": null,
      "min_width": null,
      "object_fit": null,
      "object_position": null,
      "order": null,
      "overflow": null,
      "overflow_x": null,
      "overflow_y": null,
      "padding": null,
      "right": null,
      "top": null,
      "visibility": null,
      "width": null
     }
    },
    "d3ab3387df6d4db3b873f18b3f71e024": {
     "model_module": "@jupyter-widgets/controls",
     "model_module_version": "1.5.0",
     "model_name": "HTMLModel",
     "state": {
      "_dom_classes": [],
      "_model_module": "@jupyter-widgets/controls",
      "_model_module_version": "1.5.0",
      "_model_name": "HTMLModel",
      "_view_count": null,
      "_view_module": "@jupyter-widgets/controls",
      "_view_module_version": "1.5.0",
      "_view_name": "HTMLView",
      "description": "",
      "description_tooltip": null,
      "layout": "IPY_MODEL_f380978c7a68454b9c1f08c6b218ec08",
      "placeholder": "​",
      "style": "IPY_MODEL_69ea9a2f6a11471594191891a6e24679",
      "value": " 9912422/9912422 [00:00&lt;00:00, 6537878.43it/s]"
     }
    },
    "e7956167b1624bfeba6dc76fd316d4e1": {
     "model_module": "@jupyter-widgets/base",
     "model_module_version": "1.2.0",
     "model_name": "LayoutModel",
     "state": {
      "_model_module": "@jupyter-widgets/base",
      "_model_module_version": "1.2.0",
      "_model_name": "LayoutModel",
      "_view_count": null,
      "_view_module": "@jupyter-widgets/base",
      "_view_module_version": "1.2.0",
      "_view_name": "LayoutView",
      "align_content": null,
      "align_items": null,
      "align_self": null,
      "border": null,
      "bottom": null,
      "display": null,
      "flex": null,
      "flex_flow": null,
      "grid_area": null,
      "grid_auto_columns": null,
      "grid_auto_flow": null,
      "grid_auto_rows": null,
      "grid_column": null,
      "grid_gap": null,
      "grid_row": null,
      "grid_template_areas": null,
      "grid_template_columns": null,
      "grid_template_rows": null,
      "height": null,
      "justify_content": null,
      "justify_items": null,
      "left": null,
      "margin": null,
      "max_height": null,
      "max_width": null,
      "min_height": null,
      "min_width": null,
      "object_fit": null,
      "object_position": null,
      "order": null,
      "overflow": null,
      "overflow_x": null,
      "overflow_y": null,
      "padding": null,
      "right": null,
      "top": null,
      "visibility": null,
      "width": null
     }
    },
    "ec188e5c169a480bb2dfabdab054b19b": {
     "model_module": "@jupyter-widgets/controls",
     "model_module_version": "1.5.0",
     "model_name": "HBoxModel",
     "state": {
      "_dom_classes": [],
      "_model_module": "@jupyter-widgets/controls",
      "_model_module_version": "1.5.0",
      "_model_name": "HBoxModel",
      "_view_count": null,
      "_view_module": "@jupyter-widgets/controls",
      "_view_module_version": "1.5.0",
      "_view_name": "HBoxView",
      "box_style": "",
      "children": [
       "IPY_MODEL_2c37787c11dc4bcfab4b9adfa7ae4b5b",
       "IPY_MODEL_684b6cf56f204910b82ba675536afe75",
       "IPY_MODEL_d3ab3387df6d4db3b873f18b3f71e024"
      ],
      "layout": "IPY_MODEL_c9cb8612e10a4dc18d1fd85c7bde9c6a"
     }
    },
    "f0af2d8a3dbb44748bd907f2d1bea7c7": {
     "model_module": "@jupyter-widgets/controls",
     "model_module_version": "1.5.0",
     "model_name": "HTMLModel",
     "state": {
      "_dom_classes": [],
      "_model_module": "@jupyter-widgets/controls",
      "_model_module_version": "1.5.0",
      "_model_name": "HTMLModel",
      "_view_count": null,
      "_view_module": "@jupyter-widgets/controls",
      "_view_module_version": "1.5.0",
      "_view_name": "HTMLView",
      "description": "",
      "description_tooltip": null,
      "layout": "IPY_MODEL_c2480b9eff1a4282ae3e116816b26df1",
      "placeholder": "​",
      "style": "IPY_MODEL_48cad5980cd9425cae881d2e664066c4",
      "value": "100%"
     }
    },
    "f380978c7a68454b9c1f08c6b218ec08": {
     "model_module": "@jupyter-widgets/base",
     "model_module_version": "1.2.0",
     "model_name": "LayoutModel",
     "state": {
      "_model_module": "@jupyter-widgets/base",
      "_model_module_version": "1.2.0",
      "_model_name": "LayoutModel",
      "_view_count": null,
      "_view_module": "@jupyter-widgets/base",
      "_view_module_version": "1.2.0",
      "_view_name": "LayoutView",
      "align_content": null,
      "align_items": null,
      "align_self": null,
      "border": null,
      "bottom": null,
      "display": null,
      "flex": null,
      "flex_flow": null,
      "grid_area": null,
      "grid_auto_columns": null,
      "grid_auto_flow": null,
      "grid_auto_rows": null,
      "grid_column": null,
      "grid_gap": null,
      "grid_row": null,
      "grid_template_areas": null,
      "grid_template_columns": null,
      "grid_template_rows": null,
      "height": null,
      "justify_content": null,
      "justify_items": null,
      "left": null,
      "margin": null,
      "max_height": null,
      "max_width": null,
      "min_height": null,
      "min_width": null,
      "object_fit": null,
      "object_position": null,
      "order": null,
      "overflow": null,
      "overflow_x": null,
      "overflow_y": null,
      "padding": null,
      "right": null,
      "top": null,
      "visibility": null,
      "width": null
     }
    },
    "f752daf71081418cb601494da8aa383a": {
     "model_module": "@jupyter-widgets/base",
     "model_module_version": "1.2.0",
     "model_name": "LayoutModel",
     "state": {
      "_model_module": "@jupyter-widgets/base",
      "_model_module_version": "1.2.0",
      "_model_name": "LayoutModel",
      "_view_count": null,
      "_view_module": "@jupyter-widgets/base",
      "_view_module_version": "1.2.0",
      "_view_name": "LayoutView",
      "align_content": null,
      "align_items": null,
      "align_self": null,
      "border": null,
      "bottom": null,
      "display": null,
      "flex": null,
      "flex_flow": null,
      "grid_area": null,
      "grid_auto_columns": null,
      "grid_auto_flow": null,
      "grid_auto_rows": null,
      "grid_column": null,
      "grid_gap": null,
      "grid_row": null,
      "grid_template_areas": null,
      "grid_template_columns": null,
      "grid_template_rows": null,
      "height": null,
      "justify_content": null,
      "justify_items": null,
      "left": null,
      "margin": null,
      "max_height": null,
      "max_width": null,
      "min_height": null,
      "min_width": null,
      "object_fit": null,
      "object_position": null,
      "order": null,
      "overflow": null,
      "overflow_x": null,
      "overflow_y": null,
      "padding": null,
      "right": null,
      "top": null,
      "visibility": null,
      "width": null
     }
    },
    "f89c657fdd7547b4aa3701fdcbbb3541": {
     "model_module": "@jupyter-widgets/controls",
     "model_module_version": "1.5.0",
     "model_name": "DescriptionStyleModel",
     "state": {
      "_model_module": "@jupyter-widgets/controls",
      "_model_module_version": "1.5.0",
      "_model_name": "DescriptionStyleModel",
      "_view_count": null,
      "_view_module": "@jupyter-widgets/base",
      "_view_module_version": "1.2.0",
      "_view_name": "StyleView",
      "description_width": ""
     }
    },
    "fdd26f97e7da4d3085a2fa6b05a1d2b9": {
     "model_module": "@jupyter-widgets/base",
     "model_module_version": "1.2.0",
     "model_name": "LayoutModel",
     "state": {
      "_model_module": "@jupyter-widgets/base",
      "_model_module_version": "1.2.0",
      "_model_name": "LayoutModel",
      "_view_count": null,
      "_view_module": "@jupyter-widgets/base",
      "_view_module_version": "1.2.0",
      "_view_name": "LayoutView",
      "align_content": null,
      "align_items": null,
      "align_self": null,
      "border": null,
      "bottom": null,
      "display": null,
      "flex": null,
      "flex_flow": null,
      "grid_area": null,
      "grid_auto_columns": null,
      "grid_auto_flow": null,
      "grid_auto_rows": null,
      "grid_column": null,
      "grid_gap": null,
      "grid_row": null,
      "grid_template_areas": null,
      "grid_template_columns": null,
      "grid_template_rows": null,
      "height": null,
      "justify_content": null,
      "justify_items": null,
      "left": null,
      "margin": null,
      "max_height": null,
      "max_width": null,
      "min_height": null,
      "min_width": null,
      "object_fit": null,
      "object_position": null,
      "order": null,
      "overflow": null,
      "overflow_x": null,
      "overflow_y": null,
      "padding": null,
      "right": null,
      "top": null,
      "visibility": null,
      "width": null
     }
    }
   }
  }
 },
 "nbformat": 4,
 "nbformat_minor": 4
}
